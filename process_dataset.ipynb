{
 "cells": [
  {
   "cell_type": "code",
   "execution_count": 1,
   "id": "initial_id",
   "metadata": {
    "collapsed": true,
    "ExecuteTime": {
     "end_time": "2023-08-30T12:46:16.566452100Z",
     "start_time": "2023-08-30T12:46:06.530243600Z"
    }
   },
   "outputs": [
    {
     "name": "stdout",
     "output_type": "stream",
     "text": [
      "29000 images and 145000 image-text pairs!\n",
      "Write ../datasets/Flickr/flickr30k_images/flickr30k.train.jsonl with 145000 items !\n",
      "1000 images and 5000 image-text pairs!\n",
      "Write ../datasets/Flickr/flickr30k_images/flickr30k.test.jsonl with 5000 items !\n",
      "1014 images and 5070 image-text pairs!\n",
      "Write ../datasets/Flickr/flickr30k_images/flickr30k.val.jsonl with 5070 items !\n"
     ]
    }
   ],
   "source": [
    "from datasets import RetrievalDataset\n",
    "from transformers import XLMRobertaTokenizer\n",
    "\n",
    "tokenizer = XLMRobertaTokenizer(\"beit3.spm\")\n",
    "\n",
    "RetrievalDataset.make_flickr30k_dataset_index(\n",
    "    data_path=\"../datasets/Flickr/flickr30k_images/\",\n",
    "    tokenizer=tokenizer,\n",
    "    karpathy_path=\"../datasets/Flickr/flickr30k_images/\",\n",
    ")"
   ]
  },
  {
   "cell_type": "code",
   "execution_count": null,
   "outputs": [],
   "source": [],
   "metadata": {
    "collapsed": false
   },
   "id": "7d49e09fe45fc42e"
  }
 ],
 "metadata": {
  "kernelspec": {
   "display_name": "Python 3",
   "language": "python",
   "name": "python3"
  },
  "language_info": {
   "codemirror_mode": {
    "name": "ipython",
    "version": 2
   },
   "file_extension": ".py",
   "mimetype": "text/x-python",
   "name": "python",
   "nbconvert_exporter": "python",
   "pygments_lexer": "ipython2",
   "version": "2.7.6"
  }
 },
 "nbformat": 4,
 "nbformat_minor": 5
}
